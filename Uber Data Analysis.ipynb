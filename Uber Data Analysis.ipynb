{
 "cells":[
  {
   "cell_type":"markdown",
   "source":[
    "# Data Preprocessing"
   ],
   "attachments":{
    
   },
   "metadata":{
    "datalore":{
     "node_id":"53SeYHuN9gd80dhj8pWFW4",
     "type":"MD",
     "hide_input_from_viewers":true,
     "hide_output_from_viewers":true
    }
   }
  },
  {
   "cell_type":"markdown",
   "source":[
    "## Task 1: Import the Modules"
   ],
   "attachments":{
    
   },
   "metadata":{
    "datalore":{
     "node_id":"GWEcvOc0KHJFU2pBuDtXeT",
     "type":"MD",
     "hide_input_from_viewers":true,
     "hide_output_from_viewers":true
    }
   }
  },
  {
   "cell_type":"code",
   "source":[
    "library(ggplot2)\n",
    "library(ggthemes)\n",
    "library(lubridate)\n",
    "library(dplyr)\n",
    "library(tidyr)\n",
    "library(DT)\n",
    "library(scales)\n",
    "library(patchwork)\n",
    "options(warn = -1)"
   ],
   "execution_count":null,
   "outputs":[
    
   ],
   "metadata":{
    "datalore":{
     "node_id":"bEgJSZ9mZVdwCtXPIJvXsA",
     "type":"CODE",
     "hide_input_from_viewers":true,
     "hide_output_from_viewers":true
    }
   }
  },
  {
   "cell_type":"markdown",
   "source":[
    "## Task 2: Load the Data"
   ],
   "attachments":{
    
   },
   "metadata":{
    "datalore":{
     "node_id":"ch6jwrNjAwcdCdqEn3kxmE",
     "type":"MD",
     "hide_input_from_viewers":true,
     "hide_output_from_viewers":true
    }
   }
  },
  {
   "cell_type":"code",
   "source":[
    "apr <- read.csv('uber-raw-data-apr14.csv')\n",
    "may <- read.csv('uber-raw-data-may14.csv')\n",
    "june <- read.csv('uber-raw-data-jun14.csv')\n",
    "july <- read.csv('uber-raw-data-jul14.csv')\n",
    "aug <- read.csv('uber-raw-data-aug14.csv')\n",
    "sep <- read.csv('uber-raw-data-sep14.csv')\n",
    "dataset <- rbind(apr, may, june, july, aug, sep)"
   ],
   "execution_count":null,
   "outputs":[
    
   ],
   "metadata":{
    "datalore":{
     "node_id":"Ncu5EOFI5WvlkFTmXAeTJe",
     "type":"CODE",
     "hide_input_from_viewers":true,
     "hide_output_from_viewers":true
    }
   }
  },
  {
   "cell_type":"code",
   "source":[
    "head(dataset)"
   ],
   "execution_count":null,
   "outputs":[
    
   ],
   "metadata":{
    "datalore":{
     "node_id":"amrdQZQICJ0OM9dn87BY4D",
     "type":"CODE",
     "hide_input_from_viewers":true,
     "hide_output_from_viewers":true
    }
   }
  },
  {
   "cell_type":"markdown",
   "source":[
    "## Task 3: Format the Data"
   ],
   "attachments":{
    
   },
   "metadata":{
    "datalore":{
     "node_id":"Djy8n7AWneXfRCgotvMYB3",
     "type":"MD",
     "hide_input_from_viewers":true,
     "hide_output_from_viewers":true
    }
   }
  },
  {
   "cell_type":"code",
   "source":[
    "dataset$Date.Time <- as.POSIXct(dataset$Date.Time, format = \"%m\/%d\/%Y %H:%M:%S\")\n",
    "dataset$Time <- format(as.POSIXct(dataset$Date.Time, format = \"%m\/%d\/%Y %H:%M:%S\"), format=\"%H:%M:%S\")\n",
    "dataset$Date.Time <- ymd_hms(dataset$Date.Time)\n",
    "dataset$day <- factor(day(dataset$Date.Time))\n",
    "dataset$month <- factor(month(dataset$Date.Time, label = TRUE))\n",
    "dataset$year <- factor(year(dataset$Date.Time))\n",
    "dataset$dayofweek <- factor(wday(dataset$Date.Time, label = TRUE))\n",
    "dataset$hour <- factor(hour(hms(dataset$Time)))\n",
    "dataset$minute <- factor(minute(hms(dataset$Time)))\n",
    "dataset$second <- factor(second(hms(dataset$Time)))"
   ],
   "execution_count":null,
   "outputs":[
    
   ],
   "metadata":{
    "datalore":{
     "node_id":"kHKTwCffCi6zTAPQzJldWw",
     "type":"CODE",
     "hide_input_from_viewers":true,
     "hide_output_from_viewers":true
    }
   }
  },
  {
   "cell_type":"code",
   "source":[
    "head(dataset)"
   ],
   "execution_count":null,
   "outputs":[
    
   ],
   "metadata":{
    "datalore":{
     "node_id":"ItI4pZMvW1FG7kvnGkUWPg",
     "type":"CODE",
     "hide_input_from_viewers":true,
     "hide_output_from_viewers":true
    }
   }
  },
  {
   "cell_type":"markdown",
   "source":[
    "# Monthly Data Analysis"
   ],
   "attachments":{
    
   },
   "metadata":{
    "datalore":{
     "node_id":"nitRIvQbr1b9A6njcX2eXo",
     "type":"MD",
     "hide_input_from_viewers":true,
     "hide_output_from_viewers":true
    }
   }
  },
  {
   "cell_type":"markdown",
   "source":[
    "## Task 4: Get the Monthly Data"
   ],
   "attachments":{
    
   },
   "metadata":{
    "datalore":{
     "node_id":"2gWrD47udu2Lxvhj6hCkgZ",
     "type":"MD",
     "hide_input_from_viewers":true,
     "hide_output_from_viewers":true
    }
   }
  },
  {
   "cell_type":"code",
   "source":[
    "month_data = dataset %>% group_by(month)\n",
    "month_data = month_data %>% dplyr::summarize(trip_count = n())\n",
    "datatable(month_data)"
   ],
   "execution_count":null,
   "outputs":[
    
   ],
   "metadata":{
    "datalore":{
     "node_id":"fOLN2UVROuBZqWru7fnXY8",
     "type":"CODE",
     "hide_input_from_viewers":true,
     "hide_output_from_viewers":true
    }
   }
  },
  {
   "cell_type":"code",
   "source":[
    "ggplot(month_data , aes(month, trip_count)) + geom_bar( stat = \"identity\")"
   ],
   "execution_count":null,
   "outputs":[
    
   ],
   "metadata":{
    "datalore":{
     "node_id":"6SXcOZGVArIAGtw4vYiRPb",
     "type":"CODE",
     "hide_input_from_viewers":true,
     "hide_output_from_viewers":true
    }
   }
  },
  {
   "cell_type":"markdown",
   "source":[
    "## Task 5: Get the Trips Data of the Week Days"
   ],
   "attachments":{
    
   },
   "metadata":{
    "datalore":{
     "node_id":"SaaAi2nisMymL7LZbbylFI",
     "type":"MD",
     "hide_input_from_viewers":true,
     "hide_output_from_viewers":true
    }
   }
  },
  {
   "cell_type":"code",
   "source":[
    "day_month_data = dataset %>% group_by(month, dayofweek)\n",
    "day_month_data = day_month_data %>% dplyr::summarize(trip_count = n())\n",
    "datatable(day_month_data)"
   ],
   "execution_count":null,
   "outputs":[
    
   ],
   "metadata":{
    "datalore":{
     "node_id":"2Rj5bUCPV64rzwWFQ6dkXf",
     "type":"CODE",
     "hide_input_from_viewers":true,
     "hide_output_from_viewers":true
    }
   }
  },
  {
   "cell_type":"code",
   "source":[
    "ggplot(day_month_data, aes(month, trip_count, fill=dayofweek)) + geom_bar(stat = \"identity\", position=\"dodge\")"
   ],
   "execution_count":null,
   "outputs":[
    
   ],
   "metadata":{
    "datalore":{
     "node_id":"sY9fQZmWwXhUoc9l4j5Iwr",
     "type":"CODE",
     "hide_input_from_viewers":true,
     "hide_output_from_viewers":true
    }
   }
  },
  {
   "cell_type":"markdown",
   "source":[
    "## Task 6: Add Colors and Title"
   ],
   "attachments":{
    
   },
   "metadata":{
    "datalore":{
     "node_id":"2d7bixt2qN1gf20yotSs1k",
     "type":"MD",
     "hide_input_from_viewers":true,
     "hide_output_from_viewers":true
    }
   }
  },
  {
   "cell_type":"code",
   "source":[
    "colors = c(\"#CC1011\", \"#665555\", \"#05a399\", \"#cfcaca\", \"#f5e840\", \"#0683c9\", \"#e075b0\")\n",
    "ggplot(day_month_data, aes(month, trip_count, fill=dayofweek)) + \n",
    "    geom_bar(stat = \"identity\", position=\"dodge\") + \n",
    "    ggtitle(\"Trips by Day and Month\") + \n",
    "    scale_fill_manual(values=colors)"
   ],
   "execution_count":null,
   "outputs":[
    
   ],
   "metadata":{
    "datalore":{
     "node_id":"XAW6z0YzXu3B3rHXzT7pmj",
     "type":"CODE",
     "hide_input_from_viewers":true,
     "hide_output_from_viewers":true
    }
   }
  },
  {
   "cell_type":"markdown",
   "source":[
    "## Task 7: Get the Trips by Bases on Each Month"
   ],
   "attachments":{
    
   },
   "metadata":{
    "datalore":{
     "node_id":"Uqj6uqyrLmzUtIcIrYYmUS",
     "type":"MD",
     "hide_input_from_viewers":true,
     "hide_output_from_viewers":true
    }
   }
  },
  {
   "cell_type":"code",
   "source":[
    "ggplot(dataset, aes(Base)) + geom_bar(fill = \"darkred\") + ggtitle(\"Trips by Bases\")"
   ],
   "execution_count":null,
   "outputs":[
    
   ],
   "metadata":{
    "datalore":{
     "node_id":"MzRvrKRa10x74QWIbaPFy1",
     "type":"CODE",
     "hide_input_from_viewers":true,
     "hide_output_from_viewers":true
    }
   }
  },
  {
   "cell_type":"code",
   "source":[
    "ggplot(dataset, aes(Base, fill = month)) + geom_bar(position = \"dodge\") + ggtitle(\"Trips by Bases and Month\") + scale_fill_manual(values = colors)"
   ],
   "execution_count":null,
   "outputs":[
    
   ],
   "metadata":{
    "datalore":{
     "node_id":"C5SbOBos9e2rDsCZ2OjAe2",
     "type":"CODE",
     "hide_input_from_viewers":true,
     "hide_output_from_viewers":true
    }
   }
  },
  {
   "cell_type":"markdown",
   "source":[
    "## Task 8: Plot the Trips on Each Day of Week from the Base"
   ],
   "attachments":{
    
   },
   "metadata":{
    "datalore":{
     "node_id":"sXDsEWOUh6N4uKsyzXa5jS",
     "type":"MD",
     "hide_input_from_viewers":true,
     "hide_output_from_viewers":true
    }
   }
  },
  {
   "cell_type":"code",
   "source":[
    "ggplot(dataset, aes(Base, fill = dayofweek)) + geom_bar(position = \"dodge\") + ggtitle(\"Trips by Bases and Day of Week\") + scale_fill_manual(values = colors)"
   ],
   "execution_count":null,
   "outputs":[
    
   ],
   "metadata":{
    "datalore":{
     "node_id":"2zJJjoeL3XlzQf34VSgsKq",
     "type":"CODE",
     "hide_input_from_viewers":true,
     "hide_output_from_viewers":true
    }
   }
  },
  {
   "cell_type":"markdown",
   "source":[
    "# Daily Data Analysis"
   ],
   "attachments":{
    
   },
   "metadata":{
    "datalore":{
     "node_id":"BPcM7FpRKghRe2br6LOZlN",
     "type":"MD",
     "hide_input_from_viewers":true,
     "hide_output_from_viewers":true
    }
   }
  },
  {
   "cell_type":"markdown",
   "source":[
    "## Task 9: Get the Hourly Trips"
   ],
   "attachments":{
    
   },
   "metadata":{
    "datalore":{
     "node_id":"dSfJQKYSOH4RoKKeMBqAMr",
     "type":"MD",
     "hide_input_from_viewers":true,
     "hide_output_from_viewers":true
    }
   }
  },
  {
   "cell_type":"code",
   "source":[
    "hourly_data = dataset %>% group_by(hour)\n",
    "hourly_data = hourly_data %>% dplyr::summarize(trip_count = n())\n",
    "datatable(hourly_data)"
   ],
   "execution_count":null,
   "outputs":[
    
   ],
   "metadata":{
    "datalore":{
     "node_id":"umIKbnRa1uOyMS1VP8z73e",
     "type":"CODE",
     "hide_input_from_viewers":true,
     "hide_output_from_viewers":true
    }
   }
  },
  {
   "cell_type":"code",
   "source":[
    "ggplot(hourly_data, aes(hour, trip_count)) + geom_bar(stat = \"identity\") + ggtitle(\"Trips by Hour\")"
   ],
   "execution_count":null,
   "outputs":[
    
   ],
   "metadata":{
    "datalore":{
     "node_id":"18cMnppoUkuLrmrFz5fCAo",
     "type":"CODE",
     "hide_input_from_viewers":true,
     "hide_output_from_viewers":true
    }
   }
  },
  {
   "cell_type":"markdown",
   "source":[
    "## Task 10: Get the Hourly Trips with Months and Days of Week"
   ],
   "attachments":{
    
   },
   "metadata":{
    "datalore":{
     "node_id":"AJ8UOkBqNWA0xkTBUZ3i93",
     "type":"MD",
     "hide_input_from_viewers":true,
     "hide_output_from_viewers":true
    }
   }
  },
  {
   "cell_type":"code",
   "source":[
    "hourly_monthly_data = dataset %>% group_by(hour, month)\n",
    "hourly_monthly_data = hourly_monthly_data %>% dplyr::summarize(trip_count = n())\n",
    "hourly_day_data = dataset %>% group_by(hour, day)\n",
    "hourly_day_data = hourly_day_data %>% dplyr:: summarize(trip_count = n())"
   ],
   "execution_count":null,
   "outputs":[
    
   ],
   "metadata":{
    "datalore":{
     "node_id":"2bb5NAgr05hJQSrFJMgf4d",
     "type":"CODE",
     "hide_input_from_viewers":true,
     "hide_output_from_viewers":true
    }
   }
  },
  {
   "cell_type":"code",
   "source":[
    "ggplot(hourly_monthly_data, aes(hour, trip_count, fill = month)) + geom_bar( stat = \"identity\") + ggtitle(\"Trips by Hour and Month\")\n",
    "ggplot(hourly_day_data, aes(hour, trip_count, fill = day)) + geom_bar( stat = \"identity\") + ggtitle(\"Trips by Hour and Week Day\")"
   ],
   "execution_count":null,
   "outputs":[
    
   ],
   "metadata":{
    "datalore":{
     "node_id":"jqcqrRDitc0gpF8X531EyL",
     "type":"CODE",
     "hide_input_from_viewers":true,
     "hide_output_from_viewers":true
    }
   }
  },
  {
   "cell_type":"markdown",
   "source":[
    "## Task 11: Get the Trips on Each Day of Month"
   ],
   "attachments":{
    
   },
   "metadata":{
    "datalore":{
     "node_id":"iCVlLA57sEqFLXtUn0ftpw",
     "type":"MD",
     "hide_input_from_viewers":true,
     "hide_output_from_viewers":true
    }
   }
  },
  {
   "cell_type":"code",
   "source":[
    "day_data = dataset %>% group_by(day)\n",
    "day_data = day_data %>% dplyr::summarize(trip_count = n())\n",
    "datatable(day_data)"
   ],
   "execution_count":null,
   "outputs":[
    
   ],
   "metadata":{
    "datalore":{
     "node_id":"TjfBeNHQFLUntuzKoQuIlq",
     "type":"CODE",
     "hide_input_from_viewers":true,
     "hide_output_from_viewers":true
    }
   }
  },
  {
   "cell_type":"code",
   "source":[
    "ggplot(day_data, aes(day, trip_count)) + geom_bar(stat = \"identity\") + ggtitle(\"Trips by Day\")"
   ],
   "execution_count":null,
   "outputs":[
    
   ],
   "metadata":{
    "datalore":{
     "node_id":"hEWlV10nwJSJ10GOwUPcZr",
     "type":"CODE",
     "hide_input_from_viewers":true,
     "hide_output_from_viewers":true
    }
   }
  },
  {
   "cell_type":"markdown",
   "source":[
    "## Task 12: Plot the Trips on Each Day with Months"
   ],
   "attachments":{
    
   },
   "metadata":{
    "datalore":{
     "node_id":"cx0B4kKE8QvDvSy9QPUqqg",
     "type":"MD",
     "hide_input_from_viewers":true,
     "hide_output_from_viewers":true
    }
   }
  },
  {
   "cell_type":"code",
   "source":[
    "month_day_data = dataset %>% group_by(month, day)\n",
    "month_day_data = month_day_data %>% dplyr::summarize(trip_count = n())\n",
    "datatable(month_day_data)"
   ],
   "execution_count":null,
   "outputs":[
    
   ],
   "metadata":{
    "datalore":{
     "node_id":"1i5KLuZL5fKTgm0uu4fYfB",
     "type":"CODE",
     "hide_input_from_viewers":true,
     "hide_output_from_viewers":true
    }
   }
  },
  {
   "cell_type":"code",
   "source":[
    "ggplot(month_day_data, aes(day, trip_count, fill = month)) + geom_bar(stat=\"identity\") + ggtitle(\"Trips by Day and Month\")"
   ],
   "execution_count":null,
   "outputs":[
    
   ],
   "metadata":{
    "datalore":{
     "node_id":"flo4EzGWzBlSKIpPbQZkKz",
     "type":"CODE",
     "hide_input_from_viewers":true,
     "hide_output_from_viewers":true
    }
   }
  },
  {
   "cell_type":"markdown",
   "source":[
    "# Data Plotting"
   ],
   "attachments":{
    
   },
   "metadata":{
    "datalore":{
     "node_id":"CEuPBhlK8HaJ3qU8P8sytO",
     "type":"MD",
     "hide_input_from_viewers":true,
     "hide_output_from_viewers":true
    }
   }
  },
  {
   "cell_type":"markdown",
   "source":[
    "## Task 13: Plot the Heatmap"
   ],
   "attachments":{
    
   },
   "metadata":{
    "datalore":{
     "node_id":"JX9hO4tfpQCM7zs8Pi7vIf",
     "type":"MD",
     "hide_input_from_viewers":true,
     "hide_output_from_viewers":true
    }
   }
  },
  {
   "cell_type":"code",
   "source":[
    "day_and_hour <- dataset %>% group_by(day, hour) %>% dplyr::summarize(trip_count = n())\n",
    "month_base <-  dataset %>% group_by(Base, month) %>% dplyr::summarize(Total = n()) "
   ],
   "execution_count":null,
   "outputs":[
    
   ],
   "metadata":{
    "datalore":{
     "node_id":"KnziaK8CZxYtueMGw1wmiG",
     "type":"CODE",
     "hide_input_from_viewers":true,
     "hide_output_from_viewers":true
    }
   }
  },
  {
   "cell_type":"code",
   "source":[
    "g1 <- ggplot(day_and_hour, aes(day, hour, fill = trip_count)) + geom_tile(color = \"white\") + ggtitle(\"Heat Map by Hour and Day\")\n",
    "g2 <- ggplot(month_day_data, aes(day, month, fill = trip_count)) + geom_tile(color = \"white\") + ggtitle(\"Heat Map by Month and Day\")\n",
    "g3 <- ggplot(month_base, aes(Base, month, fill = Total)) + geom_tile(color = \"white\") + ggtitle(\"Heat Map by Month and Bases\")"
   ],
   "execution_count":null,
   "outputs":[
    
   ],
   "metadata":{
    "datalore":{
     "node_id":"9MqWZgrW4oBYs9GuHzGSut",
     "type":"CODE",
     "hide_input_from_viewers":true,
     "hide_output_from_viewers":true
    }
   }
  },
  {
   "cell_type":"code",
   "source":[
    "g1 \/ g2\/ g3"
   ],
   "execution_count":null,
   "outputs":[
    
   ],
   "metadata":{
    "datalore":{
     "node_id":"QFObpH0IkpasIYJC8Kpll1",
     "type":"CODE",
     "hide_input_from_viewers":true,
     "hide_output_from_viewers":true
    }
   }
  },
  {
   "cell_type":"markdown",
   "source":[
    "## Task 14: Visualize the rides in New York"
   ],
   "attachments":{
    
   },
   "metadata":{
    "datalore":{
     "node_id":"ChIGeXhk9AnSkk26mDmUoE",
     "type":"MD",
     "hide_input_from_viewers":true,
     "hide_output_from_viewers":true
    }
   }
  },
  {
   "cell_type":"code",
   "source":[
    "min_lat <- min(dataset$Lat)\n",
    "max_lat <- max(dataset$Lat)\n",
    "min_long <- min(dataset$Lon)\n",
    "max_long <- max(dataset$Lon)"
   ],
   "execution_count":null,
   "outputs":[
    
   ],
   "metadata":{
    "datalore":{
     "node_id":"Jvjmddcvc8TPbgRZ6FNYNt",
     "type":"CODE",
     "hide_input_from_viewers":true,
     "hide_output_from_viewers":true
    }
   }
  },
  {
   "cell_type":"code",
   "source":[
    "ggplot(dataset, aes(x=Lon, y=Lat, color = Base)) +\n",
    "  geom_point(size=1) +\n",
    "     scale_x_continuous(limits=c(min_long, max_long)) +\n",
    "      scale_y_continuous(limits=c(min_lat, max_lat)) +\n",
    "       theme_map() +\n",
    "          ggtitle(\"NYC MAP BASED ON UBER RIDES DURING 2014 (APR-SEP) by BASE\")"
   ],
   "execution_count":null,
   "outputs":[
    
   ],
   "metadata":{
    "datalore":{
     "node_id":"PslDBG3p0nM1E2ndXmXNWJ",
     "type":"CODE",
     "hide_input_from_viewers":true,
     "hide_output_from_viewers":true
    }
   }
  }
 ],
 "metadata":{
  "kernelspec":{
   "display_name":"R",
   "language":"r",
   "name":"ir"
  },
  "datalore":{
   "computation_mode":"JUPYTER",
   "package_manager":"conda",
   "base_environment":"minimal",
   "packages":[
    
   ],
   "report_row_ids":[
    
   ],
   "version":3
  }
 },
 "nbformat":4,
 "nbformat_minor":4
}