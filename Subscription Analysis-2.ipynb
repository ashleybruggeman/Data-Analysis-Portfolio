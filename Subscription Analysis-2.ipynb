{
 "cells":[
  {
   "cell_type":"markdown",
   "source":[
    "# Cohort Analysis for Subscription Business"
   ],
   "attachments":{
    
   },
   "metadata":{
    "datalore":{
     "node_id":"PRSpfzxMIrjSWEqpHudC02",
     "type":"MD",
     "hide_input_from_viewers":true,
     "hide_output_from_viewers":true
    }
   }
  },
  {
   "cell_type":"markdown",
   "source":[
    "## Import Libraries and CSV"
   ],
   "attachments":{
    
   },
   "metadata":{
    "datalore":{
     "node_id":"mdRImLecJu6408RD7nLKt7",
     "type":"MD",
     "hide_input_from_viewers":true,
     "hide_output_from_viewers":true
    }
   }
  },
  {
   "cell_type":"code",
   "source":[
    "import pandas as pd\n",
    "import numpy as np\n",
    "import plotly.graph_objects as go\n",
    "import locale\n",
    "locale.setlocale(locale.LC_ALL, '')\n",
    "\n",
    "orders = pd.read_csv('\/data\/notebook_files\/Customer_Subscription_And_Transaction_Details.csv')"
   ],
   "execution_count":6,
   "outputs":[
    
   ],
   "metadata":{
    "datalore":{
     "node_id":"gpJ4F8wGYjL9UONH9sSKsV",
     "type":"CODE",
     "hide_input_from_viewers":true,
     "hide_output_from_viewers":true
    }
   }
  },
  {
   "cell_type":"markdown",
   "source":[
    "Link to data source: https:\/\/www.kaggle.com\/datasets\/sarathperingayi\/performance-of-a-subscription-business\n",
    "\n",
    "**Context**\n",
    "\n",
    "This is a cohort analysis for a subscription based business that analyzes customer retention rates. This notebook takes 2 dates as input for the time frame you wish to analyze. The resulting table will tell you how many new customers from your timeframe continued their subscriptions, and at what level.\n",
    "\n",
    "**Data Dictionary**\n",
    "\n",
    "1. **cust_id:** A unique identifier for each customer\n",
    "\n",
    "2. **transaction_type:** The type of transaction\n",
    "\n",
    "3. **transaction_date:** The date when the transaction was made\n",
    "\n",
    "4. **subscription_type:** The type of subscription, which can be BASIC, MAX, or PRO\n",
    "\n",
    "5. **subscription_price:** The price of the subscription\n",
    "\n",
    "6. **customer_gender:** The gender of the customer, which can be Male or Female\n",
    "\n",
    "7. **age_group:** The age group of the customer\n",
    "\n",
    "8. **customer_country:** The country where the customer is located\n",
    "\n",
    "9. **referral_type:** The type of referral, which can be Google Ads, Facebook, Display, or others"
   ],
   "attachments":{
    
   },
   "metadata":{
    "datalore":{
     "node_id":"yNTNIqd7YVkZ8DsMeakoEO",
     "type":"MD",
     "hide_input_from_viewers":true,
     "hide_output_from_viewers":true
    }
   }
  },
  {
   "cell_type":"markdown",
   "source":[
    "## Required Input"
   ],
   "attachments":{
    
   },
   "metadata":{
    "datalore":{
     "node_id":"4cIqIFMq8luemUJGG7orz5",
     "type":"MD",
     "hide_input_from_viewers":true,
     "hide_output_from_viewers":true
    }
   }
  },
  {
   "cell_type":"code",
   "source":[
    "start_date = pd.to_datetime('2022-01-01',utc=True).tz_localize(None)\n",
    "end_date = pd.to_datetime('2022-01-30',utc=True).tz_localize(None)"
   ],
   "execution_count":7,
   "outputs":[
    
   ],
   "metadata":{
    "datalore":{
     "node_id":"8yoUgWobiBJ1uh69KRdan7",
     "type":"CODE",
     "hide_input_from_viewers":true,
     "hide_output_from_viewers":true
    }
   }
  },
  {
   "cell_type":"markdown",
   "source":[
    "## Data Exploration"
   ],
   "attachments":{
    
   },
   "metadata":{
    "datalore":{
     "node_id":"zTb5maLqGLUTqBpbtwDlLI",
     "type":"MD",
     "hide_input_from_viewers":true,
     "hide_output_from_viewers":true
    }
   }
  },
  {
   "cell_type":"code",
   "source":[
    "orders.head()"
   ],
   "execution_count":8,
   "outputs":[
    {
     "data":{
      "text\/html":[
       "<div>\n",
       "<style scoped>\n",
       "    .dataframe tbody tr th:only-of-type {\n",
       "        vertical-align: middle;\n",
       "    }\n",
       "\n",
       "    .dataframe tbody tr th {\n",
       "        vertical-align: top;\n",
       "    }\n",
       "\n",
       "    .dataframe thead th {\n",
       "        text-align: right;\n",
       "    }\n",
       "<\/style>\n",
       "<table border=\"1\" class=\"dataframe\">\n",
       "  <thead>\n",
       "    <tr style=\"text-align: right;\">\n",
       "      <th><\/th>\n",
       "      <th>cust_id<\/th>\n",
       "      <th>transaction_type<\/th>\n",
       "      <th>transaction_date<\/th>\n",
       "      <th>subscription_type<\/th>\n",
       "      <th>subscription_price<\/th>\n",
       "      <th>customer_gender<\/th>\n",
       "      <th>age_group<\/th>\n",
       "      <th>customer_country<\/th>\n",
       "      <th>referral_type<\/th>\n",
       "    <\/tr>\n",
       "  <\/thead>\n",
       "  <tbody>\n",
       "    <tr>\n",
       "      <th>0<\/th>\n",
       "      <td>1<\/td>\n",
       "      <td>initial<\/td>\n",
       "      <td>2020-09-01<\/td>\n",
       "      <td>BASIC<\/td>\n",
       "      <td>33<\/td>\n",
       "      <td>Male<\/td>\n",
       "      <td>35-44<\/td>\n",
       "      <td>Denmark<\/td>\n",
       "      <td>Google Ads<\/td>\n",
       "    <\/tr>\n",
       "    <tr>\n",
       "      <th>1<\/th>\n",
       "      <td>2<\/td>\n",
       "      <td>initial<\/td>\n",
       "      <td>2022-03-01<\/td>\n",
       "      <td>BASIC<\/td>\n",
       "      <td>53<\/td>\n",
       "      <td>Female<\/td>\n",
       "      <td>18-24<\/td>\n",
       "      <td>Denmark<\/td>\n",
       "      <td>facebook<\/td>\n",
       "    <\/tr>\n",
       "    <tr>\n",
       "      <th>2<\/th>\n",
       "      <td>3<\/td>\n",
       "      <td>initial<\/td>\n",
       "      <td>2020-10-01<\/td>\n",
       "      <td>MAX<\/td>\n",
       "      <td>99<\/td>\n",
       "      <td>Female<\/td>\n",
       "      <td>25-34<\/td>\n",
       "      <td>Norway<\/td>\n",
       "      <td>facebook<\/td>\n",
       "    <\/tr>\n",
       "    <tr>\n",
       "      <th>3<\/th>\n",
       "      <td>3<\/td>\n",
       "      <td>REDUCTION<\/td>\n",
       "      <td>2022-02-01<\/td>\n",
       "      <td>BASIC<\/td>\n",
       "      <td>53<\/td>\n",
       "      <td>Female<\/td>\n",
       "      <td>25-34<\/td>\n",
       "      <td>Norway<\/td>\n",
       "      <td>facebook<\/td>\n",
       "    <\/tr>\n",
       "    <tr>\n",
       "      <th>4<\/th>\n",
       "      <td>4<\/td>\n",
       "      <td>initial<\/td>\n",
       "      <td>2022-05-01<\/td>\n",
       "      <td>PRO<\/td>\n",
       "      <td>85<\/td>\n",
       "      <td>Male<\/td>\n",
       "      <td>18-24<\/td>\n",
       "      <td>Sweden<\/td>\n",
       "      <td>Display<\/td>\n",
       "    <\/tr>\n",
       "  <\/tbody>\n",
       "<\/table>\n",
       "<\/div>"
      ]
     },
     "metadata":{
      
     },
     "output_type":"display_data"
    }
   ],
   "metadata":{
    "datalore":{
     "node_id":"nb8smTysKtSjyURkmTV2hQ",
     "type":"CODE",
     "hide_input_from_viewers":true,
     "hide_output_from_viewers":true
    }
   }
  },
  {
   "cell_type":"markdown",
   "source":[
    "### Date Range"
   ],
   "attachments":{
    
   },
   "metadata":{
    "datalore":{
     "node_id":"iEyChBRF8d7YLu5yQ23xIg",
     "type":"MD",
     "hide_input_from_viewers":true,
     "hide_output_from_viewers":true
    }
   }
  },
  {
   "cell_type":"code",
   "source":[
    "orders['transaction_date'].min()"
   ],
   "execution_count":9,
   "outputs":[
    {
     "data":{
      "text\/plain":[
       "'2020-01-01'"
      ]
     },
     "metadata":{
      
     },
     "output_type":"display_data"
    }
   ],
   "metadata":{
    "datalore":{
     "node_id":"6NpV8fX4GVm85yk1lQs205",
     "type":"CODE",
     "hide_input_from_viewers":true,
     "hide_output_from_viewers":true
    }
   }
  },
  {
   "cell_type":"code",
   "source":[
    "orders['transaction_date'].max()"
   ],
   "execution_count":10,
   "outputs":[
    {
     "data":{
      "text\/plain":[
       "'2022-12-01'"
      ]
     },
     "metadata":{
      
     },
     "output_type":"display_data"
    }
   ],
   "metadata":{
    "datalore":{
     "node_id":"dUNXUnoCEukB0IwZMBwybR",
     "type":"CODE",
     "hide_input_from_viewers":true,
     "hide_output_from_viewers":true
    }
   }
  },
  {
   "cell_type":"markdown",
   "source":[
    "### Data Types"
   ],
   "attachments":{
    
   },
   "metadata":{
    "datalore":{
     "node_id":"c5ivA8Q54B1TwUE0v3GMTO",
     "type":"MD",
     "hide_input_from_viewers":true,
     "hide_output_from_viewers":true
    }
   }
  },
  {
   "cell_type":"code",
   "source":[
    "orders.dtypes"
   ],
   "execution_count":11,
   "outputs":[
    {
     "data":{
      "text\/html":[
       "<pre>cust_id                int64\n",
       "transaction_type      object\n",
       "transaction_date      object\n",
       "subscription_type     object\n",
       "subscription_price     int64\n",
       "customer_gender       object\n",
       "age_group             object\n",
       "customer_country      object\n",
       "referral_type         object\n",
       "dtype: object<\/pre>"
      ]
     },
     "metadata":{
      
     },
     "output_type":"display_data"
    }
   ],
   "metadata":{
    "datalore":{
     "node_id":"EMi4LeADJ1wnxxdyhXCbcG",
     "type":"CODE",
     "hide_input_from_viewers":true,
     "hide_output_from_viewers":true
    }
   }
  },
  {
   "cell_type":"markdown",
   "source":[
    "## Converting 'transaction_date' Column to timedate formatting"
   ],
   "attachments":{
    
   },
   "metadata":{
    "datalore":{
     "node_id":"6eDqD64AGZ1euUVyFRnpG9",
     "type":"MD",
     "hide_input_from_viewers":true,
     "hide_output_from_viewers":true
    }
   }
  },
  {
   "cell_type":"code",
   "source":[
    "orders['transaction_date'] = orders['transaction_date'].astype('datetime64')"
   ],
   "execution_count":12,
   "outputs":[
    
   ],
   "metadata":{
    "datalore":{
     "node_id":"FBiH6h3tIiV8Zy0IUld4l6",
     "type":"CODE",
     "hide_input_from_viewers":true,
     "hide_output_from_viewers":true
    }
   }
  },
  {
   "cell_type":"markdown",
   "source":[
    "## Check for duplicate data and remove (if any)"
   ],
   "attachments":{
    
   },
   "metadata":{
    "datalore":{
     "node_id":"o8VJpekTwC802Ah9g1uwG4",
     "type":"MD",
     "hide_input_from_viewers":true,
     "hide_output_from_viewers":true
    }
   }
  },
  {
   "cell_type":"code",
   "source":[
    "orders.duplicated().sum()"
   ],
   "execution_count":13,
   "outputs":[
    {
     "data":{
      "text\/plain":[
       "0"
      ]
     },
     "metadata":{
      
     },
     "output_type":"display_data"
    }
   ],
   "metadata":{
    "datalore":{
     "node_id":"1Ow49zx9xtvwZkTEY8BcN2",
     "type":"CODE",
     "hide_input_from_viewers":true,
     "hide_output_from_viewers":true
    }
   }
  },
  {
   "cell_type":"code",
   "source":[
    "# removing duplicates if there were any\n",
    "# orders = orders.loc[~orders.duplicated()]"
   ],
   "execution_count":14,
   "outputs":[
    
   ],
   "metadata":{
    "datalore":{
     "node_id":"jnPz4qMVgD8xJS8AeRA5ke",
     "type":"CODE",
     "hide_input_from_viewers":true,
     "hide_output_from_viewers":true
    }
   }
  },
  {
   "cell_type":"markdown",
   "source":[
    "## Subsetting Data Frame"
   ],
   "attachments":{
    
   },
   "metadata":{
    "datalore":{
     "node_id":"YFzKWqf7VYK3Qp5LED4R4X",
     "type":"MD",
     "hide_input_from_viewers":true,
     "hide_output_from_viewers":true
    }
   }
  },
  {
   "cell_type":"code",
   "source":[
    "orders = orders[['cust_id', 'transaction_type', 'transaction_date', \n",
    "           'subscription_type', 'subscription_price']]"
   ],
   "execution_count":15,
   "outputs":[
    
   ],
   "metadata":{
    "datalore":{
     "node_id":"GZMxlLGCHO06RjBYJU1XxU",
     "type":"CODE",
     "hide_input_from_viewers":true,
     "hide_output_from_viewers":true
    }
   }
  },
  {
   "cell_type":"markdown",
   "source":[
    "## Checking NA Counts"
   ],
   "attachments":{
    
   },
   "metadata":{
    "datalore":{
     "node_id":"zuG22XhpH0FK4ghlKPW57k",
     "type":"MD",
     "hide_input_from_viewers":true,
     "hide_output_from_viewers":true
    }
   }
  },
  {
   "cell_type":"code",
   "source":[
    "orders.isna().sum()"
   ],
   "execution_count":16,
   "outputs":[
    {
     "data":{
      "text\/html":[
       "<pre>cust_id               0\n",
       "transaction_type      0\n",
       "transaction_date      0\n",
       "subscription_type     0\n",
       "subscription_price    0\n",
       "dtype: int64<\/pre>"
      ]
     },
     "metadata":{
      
     },
     "output_type":"display_data"
    }
   ],
   "metadata":{
    "datalore":{
     "node_id":"aSHgzNy4rNZ5wET49IJqrQ",
     "type":"CODE",
     "hide_input_from_viewers":true,
     "hide_output_from_viewers":true
    }
   }
  },
  {
   "cell_type":"code",
   "source":[
    "# removing NA fields if any\n",
    "# orders = orders.dropna"
   ],
   "execution_count":17,
   "outputs":[
    
   ],
   "metadata":{
    "datalore":{
     "node_id":"Kb2hse2UM5CSB2t9lQtrd0",
     "type":"CODE",
     "hide_input_from_viewers":true,
     "hide_output_from_viewers":true
    }
   }
  },
  {
   "cell_type":"markdown",
   "source":[
    "## Time Cohort"
   ],
   "attachments":{
    
   },
   "metadata":{
    "datalore":{
     "node_id":"ECypChpaGcxVKiWh3McfLt",
     "type":"MD",
     "hide_input_from_viewers":true,
     "hide_output_from_viewers":true
    }
   }
  },
  {
   "cell_type":"code",
   "source":[
    "# All orders from time cohort\n",
    "cohort_orders = orders[(orders['transaction_date'] >= start_date) & (orders['transaction_date'] <= end_date)]"
   ],
   "execution_count":18,
   "outputs":[
    
   ],
   "metadata":{
    "datalore":{
     "node_id":"uiH2hgp4Mdm9zgSGhLQa2v",
     "type":"CODE",
     "hide_input_from_viewers":true,
     "hide_output_from_viewers":true
    }
   }
  },
  {
   "cell_type":"markdown",
   "source":[
    "## Filtering down to only new customers in cohort"
   ],
   "attachments":{
    
   },
   "metadata":{
    "datalore":{
     "node_id":"Qgm87dxCyIa78ir1DOh1kt",
     "type":"MD",
     "hide_input_from_viewers":true,
     "hide_output_from_viewers":true
    }
   }
  },
  {
   "cell_type":"code",
   "source":[
    "new_customers_cohort = cohort_orders.query('`transaction_type` == \"initial\"')"
   ],
   "execution_count":19,
   "outputs":[
    
   ],
   "metadata":{
    "datalore":{
     "node_id":"SPj1f2yoYOsYsmF7TsCyb1",
     "type":"CODE",
     "hide_input_from_viewers":true,
     "hide_output_from_viewers":true
    }
   }
  },
  {
   "cell_type":"code",
   "source":[
    "# count of new customers in cohort\n",
    "count_new_customers = len(new_customers_cohort)\n",
    "count_new_customers"
   ],
   "execution_count":20,
   "outputs":[
    {
     "data":{
      "text\/plain":[
       "306"
      ]
     },
     "metadata":{
      
     },
     "output_type":"display_data"
    }
   ],
   "metadata":{
    "datalore":{
     "node_id":"qtAxu1EeBqx2EvnmKTCQZ9",
     "type":"CODE",
     "hide_input_from_viewers":true,
     "hide_output_from_viewers":true
    }
   }
  },
  {
   "cell_type":"markdown",
   "source":[
    "## Pulling all data for new customers in cohort"
   ],
   "attachments":{
    
   },
   "metadata":{
    "datalore":{
     "node_id":"oBVq7TyJK9JVuDknKfId8j",
     "type":"MD",
     "hide_input_from_viewers":true,
     "hide_output_from_viewers":true
    }
   }
  },
  {
   "cell_type":"code",
   "source":[
    "new_customer_list = new_customers_cohort['cust_id'].values.tolist()\n",
    "new_customer_full_cohort = orders.query('cust_id==@new_customer_list')\n",
    "new_customer_full_cohort "
   ],
   "execution_count":21,
   "outputs":[
    {
     "data":{
      "text\/html":[
       "<div>\n",
       "<style scoped>\n",
       "    .dataframe tbody tr th:only-of-type {\n",
       "        vertical-align: middle;\n",
       "    }\n",
       "\n",
       "    .dataframe tbody tr th {\n",
       "        vertical-align: top;\n",
       "    }\n",
       "\n",
       "    .dataframe thead th {\n",
       "        text-align: right;\n",
       "    }\n",
       "<\/style>\n",
       "<table border=\"1\" class=\"dataframe\">\n",
       "  <thead>\n",
       "    <tr style=\"text-align: right;\">\n",
       "      <th><\/th>\n",
       "      <th>cust_id<\/th>\n",
       "      <th>transaction_type<\/th>\n",
       "      <th>transaction_date<\/th>\n",
       "      <th>subscription_type<\/th>\n",
       "      <th>subscription_price<\/th>\n",
       "    <\/tr>\n",
       "  <\/thead>\n",
       "  <tbody>\n",
       "    <tr>\n",
       "      <th>91<\/th>\n",
       "      <td>55<\/td>\n",
       "      <td>initial<\/td>\n",
       "      <td>2022-01-01<\/td>\n",
       "      <td>BASIC<\/td>\n",
       "      <td>53<\/td>\n",
       "    <\/tr>\n",
       "    <tr>\n",
       "      <th>95<\/th>\n",
       "      <td>58<\/td>\n",
       "      <td>initial<\/td>\n",
       "      <td>2022-01-01<\/td>\n",
       "      <td>BASIC<\/td>\n",
       "      <td>53<\/td>\n",
       "    <\/tr>\n",
       "    <tr>\n",
       "      <th>96<\/th>\n",
       "      <td>59<\/td>\n",
       "      <td>initial<\/td>\n",
       "      <td>2022-01-01<\/td>\n",
       "      <td>MAX<\/td>\n",
       "      <td>119<\/td>\n",
       "    <\/tr>\n",
       "    <tr>\n",
       "      <th>97<\/th>\n",
       "      <td>59<\/td>\n",
       "      <td>REDUCTION<\/td>\n",
       "      <td>2022-11-01<\/td>\n",
       "      <td>BASIC<\/td>\n",
       "      <td>53<\/td>\n",
       "    <\/tr>\n",
       "    <tr>\n",
       "      <th>162<\/th>\n",
       "      <td>98<\/td>\n",
       "      <td>initial<\/td>\n",
       "      <td>2022-01-01<\/td>\n",
       "      <td>BASIC<\/td>\n",
       "      <td>53<\/td>\n",
       "    <\/tr>\n",
       "    <tr>\n",
       "      <th>...<\/th>\n",
       "      <td>...<\/td>\n",
       "      <td>...<\/td>\n",
       "      <td>...<\/td>\n",
       "      <td>...<\/td>\n",
       "      <td>...<\/td>\n",
       "    <\/tr>\n",
       "    <tr>\n",
       "      <th>17875<\/th>\n",
       "      <td>10227<\/td>\n",
       "      <td>initial<\/td>\n",
       "      <td>2022-01-01<\/td>\n",
       "      <td>MAX<\/td>\n",
       "      <td>119<\/td>\n",
       "    <\/tr>\n",
       "    <tr>\n",
       "      <th>17876<\/th>\n",
       "      <td>10227<\/td>\n",
       "      <td>REDUCTION<\/td>\n",
       "      <td>2022-08-01<\/td>\n",
       "      <td>BASIC<\/td>\n",
       "      <td>53<\/td>\n",
       "    <\/tr>\n",
       "    <tr>\n",
       "      <th>17907<\/th>\n",
       "      <td>10245<\/td>\n",
       "      <td>initial<\/td>\n",
       "      <td>2022-01-01<\/td>\n",
       "      <td>BASIC<\/td>\n",
       "      <td>53<\/td>\n",
       "    <\/tr>\n",
       "    <tr>\n",
       "      <th>17909<\/th>\n",
       "      <td>10247<\/td>\n",
       "      <td>initial<\/td>\n",
       "      <td>2022-01-01<\/td>\n",
       "      <td>PRO<\/td>\n",
       "      <td>85<\/td>\n",
       "    <\/tr>\n",
       "    <tr>\n",
       "      <th>17910<\/th>\n",
       "      <td>10247<\/td>\n",
       "      <td>REDUCTION<\/td>\n",
       "      <td>2022-04-01<\/td>\n",
       "      <td>BASIC<\/td>\n",
       "      <td>53<\/td>\n",
       "    <\/tr>\n",
       "  <\/tbody>\n",
       "<\/table>\n",
       "<p>473 rows × 5 columns<\/p>\n",
       "<\/div>"
      ]
     },
     "metadata":{
      
     },
     "output_type":"display_data"
    }
   ],
   "metadata":{
    "datalore":{
     "node_id":"X5p76DUmncMG6LO7vG7MrW",
     "type":"CODE",
     "hide_input_from_viewers":true,
     "hide_output_from_viewers":true
    }
   }
  },
  {
   "cell_type":"markdown",
   "source":[
    "## Counts"
   ],
   "attachments":{
    
   },
   "metadata":{
    "datalore":{
     "node_id":"RFnVcD97fOxCo3E1wLDdY6",
     "type":"MD",
     "hide_input_from_viewers":true,
     "hide_output_from_viewers":true
    }
   }
  },
  {
   "cell_type":"code",
   "source":[
    "# number of new customers who go on to reduce their subscription\n",
    "count_reduction = new_customer_full_cohort.query('`transaction_type` == \"REDUCTION\"')\n",
    "count_reduction = count_reduction['cust_id'].nunique()\n",
    "count_reduction"
   ],
   "execution_count":22,
   "outputs":[
    {
     "data":{
      "text\/plain":[
       "95"
      ]
     },
     "metadata":{
      
     },
     "output_type":"display_data"
    }
   ],
   "metadata":{
    "datalore":{
     "node_id":"7XKz81cbJD9GEbOzIM89nX",
     "type":"CODE",
     "hide_input_from_viewers":true,
     "hide_output_from_viewers":true
    }
   }
  },
  {
   "cell_type":"code",
   "source":[
    "# number of new customers who renew their subscriptions at the same subscription level\n",
    "count_churn = new_customer_full_cohort.query('`transaction_type` == \"CHURN\"')\n",
    "count_churn = count_churn['cust_id'].nunique()\n",
    "count_churn"
   ],
   "execution_count":23,
   "outputs":[
    {
     "data":{
      "text\/plain":[
       "33"
      ]
     },
     "metadata":{
      
     },
     "output_type":"display_data"
    }
   ],
   "metadata":{
    "datalore":{
     "node_id":"1DVXSim7xY9XlROWQdQJHt",
     "type":"CODE",
     "hide_input_from_viewers":true,
     "hide_output_from_viewers":true
    }
   }
  },
  {
   "cell_type":"code",
   "source":[
    "# number of new customers who go on to upgrade their subscription\n",
    "count_upgrade = new_customer_full_cohort.query('`transaction_type` == \"UPGRADE\"')\n",
    "count_upgrade = count_upgrade['cust_id'].nunique()\n",
    "count_upgrade"
   ],
   "execution_count":24,
   "outputs":[
    {
     "data":{
      "text\/plain":[
       "38"
      ]
     },
     "metadata":{
      
     },
     "output_type":"display_data"
    }
   ],
   "metadata":{
    "datalore":{
     "node_id":"Nl0z6YrgRZqkI862aTJNCA",
     "type":"CODE",
     "hide_input_from_viewers":true,
     "hide_output_from_viewers":true
    }
   }
  },
  {
   "cell_type":"markdown",
   "source":[
    
   ],
   "attachments":{
    
   },
   "metadata":{
    "datalore":{
     "node_id":"FqvR3JSrXcW459KpJHwMZw",
     "type":"MD",
     "hide_input_from_viewers":true,
     "hide_output_from_viewers":true
    }
   }
  },
  {
   "cell_type":"code",
   "source":[
    "# creating percentage variables\n",
    "\n",
    "count_reduction_percent = round((count_reduction\/count_new_customers) * 100, 2) if count_new_customers else 'nan'\n",
    "count_churn_percent = round((count_churn\/count_new_customers) * 100, 2) if count_new_customers else 'nan'\n",
    "count_upgrade_percent = round((count_upgrade\/count_new_customers) * 100, 2) if count_new_customers else 'nan'\n",
    "\n",
    "count_reduction_percent = 'nan' if count_reduction_percent == 'nan' else '{}%'.format(count_reduction_percent)\n",
    "count_churn_percent = 'nan' if count_churn_percent == 'nan' else '{}%'.format(count_churn_percent)\n",
    "count_upgrade_percent = 'nan' if count_upgrade_percent == 'nan' else '{}%'.format(count_upgrade_percent)\n",
    "\n",
    "not_renewed = count_new_customers - (count_reduction + count_churn + count_upgrade) \n",
    "\n",
    "not_renewed_percent = round((not_renewed\/count_new_customers) * 100, 2) if count_new_customers else 'nan'\n",
    "not_renewed_percent = 'nan' if not_renewed_percent == 'nan' else '{}%'.format(not_renewed_percent)"
   ],
   "execution_count":25,
   "outputs":[
    
   ],
   "metadata":{
    "datalore":{
     "node_id":"3G3utRylRxIb6fSC87Gqbe",
     "type":"CODE",
     "hide_input_from_viewers":true,
     "hide_output_from_viewers":true
    }
   }
  },
  {
   "cell_type":"markdown",
   "source":[
    "## Final Analysis"
   ],
   "attachments":{
    
   },
   "metadata":{
    "datalore":{
     "node_id":"hoOiV8cQ4vkaDRDxVyZMXN",
     "type":"MD",
     "hide_input_from_viewers":true,
     "hide_output_from_viewers":true
    }
   }
  },
  {
   "cell_type":"code",
   "source":[
    "print(f\"\"\"\n",
    "Of the {count_new_customers} new customers from {start_date} to {end_date}, \n",
    "{count_churn_percent}, or {count_churn} customers, renewed their subscription at the same subscription level, \n",
    "{count_reduction_percent}, or {count_reduction} customers, renewed their subscription but reduced their subscription type,\n",
    "and {count_upgrade_percent}, or {count_upgrade} customers, renewed their subscription and upgraded their subscription type.\n",
    "This means {not_renewed_percent}, or {not_renewed} customers, have yet to renew their subscription.\n",
    "\"\"\")\n",
    "\n",
    "fig = go.Figure(data=[go.Table(header=dict(values=['','Customers', 'Churn', 'Reduction', 'Upgrade']),\n",
    "                 cells=dict(values=[['Count', 'Percentage'], \n",
    "                                    [count_new_customers, '100%'],\n",
    "                                    [count_churn, count_churn_percent],\n",
    "                                    [count_reduction, count_reduction_percent],\n",
    "                                    [count_upgrade, count_upgrade_percent]]))\n",
    "                     ])\n",
    "fig.update_layout(title_text='Cohort Analysis')\n",
    "fig.show()"
   ],
   "execution_count":26,
   "outputs":[
    {
     "name":"stdout",
     "text":[
      "\n",
      "Of the 306 new customers from 2022-01-01 00:00:00 to 2022-01-30 00:00:00, \n",
      "10.78%, or 33 customers, renewed their subscription at the same subscription level, \n",
      "31.05%, or 95 customers, renewed their subscription but reduced their subscription type,\n",
      "and 12.42%, or 38 customers, renewed their subscription and upgraded their subscription type.\n",
      "This means 45.75%, or 140 customers, have yet to renew their subscription.\n",
      "\n"
     ],
     "output_type":"stream"
    },
    {
     "data":{
      "application\/vnd.plotly.v1+json":{
       "data":[
        {
         "cells":{
          "values":[
           [
            "Count",
            "Percentage"
           ],
           [
            306,
            "100%"
           ],
           [
            33,
            "10.78%"
           ],
           [
            95,
            "31.05%"
           ],
           [
            38,
            "12.42%"
           ]
          ]
         },
         "header":{
          "values":[
           "",
           "Customers",
           "Churn",
           "Reduction",
           "Upgrade"
          ]
         },
         "type":"table"
        }
       ],
       "layout":{
        "template":{
         "data":{
          "histogram2dcontour":[
           {
            "type":"histogram2dcontour",
            "colorbar":{
             "outlinewidth":0,
             "ticks":""
            },
            "colorscale":[
             [
              0,
              "#0d0887"
             ],
             [
              0.1111111111111111,
              "#46039f"
             ],
             [
              0.2222222222222222,
              "#7201a8"
             ],
             [
              0.3333333333333333,
              "#9c179e"
             ],
             [
              0.4444444444444444,
              "#bd3786"
             ],
             [
              0.5555555555555556,
              "#d8576b"
             ],
             [
              0.6666666666666666,
              "#ed7953"
             ],
             [
              0.7777777777777778,
              "#fb9f3a"
             ],
             [
              0.8888888888888888,
              "#fdca26"
             ],
             [
              1,
              "#f0f921"
             ]
            ]
           }
          ],
          "choropleth":[
           {
            "type":"choropleth",
            "colorbar":{
             "outlinewidth":0,
             "ticks":""
            }
           }
          ],
          "histogram2d":[
           {
            "type":"histogram2d",
            "colorbar":{
             "outlinewidth":0,
             "ticks":""
            },
            "colorscale":[
             [
              0,
              "#0d0887"
             ],
             [
              0.1111111111111111,
              "#46039f"
             ],
             [
              0.2222222222222222,
              "#7201a8"
             ],
             [
              0.3333333333333333,
              "#9c179e"
             ],
             [
              0.4444444444444444,
              "#bd3786"
             ],
             [
              0.5555555555555556,
              "#d8576b"
             ],
             [
              0.6666666666666666,
              "#ed7953"
             ],
             [
              0.7777777777777778,
              "#fb9f3a"
             ],
             [
              0.8888888888888888,
              "#fdca26"
             ],
             [
              1,
              "#f0f921"
             ]
            ]
           }
          ],
          "heatmap":[
           {
            "type":"heatmap",
            "colorbar":{
             "outlinewidth":0,
             "ticks":""
            },
            "colorscale":[
             [
              0,
              "#0d0887"
             ],
             [
              0.1111111111111111,
              "#46039f"
             ],
             [
              0.2222222222222222,
              "#7201a8"
             ],
             [
              0.3333333333333333,
              "#9c179e"
             ],
             [
              0.4444444444444444,
              "#bd3786"
             ],
             [
              0.5555555555555556,
              "#d8576b"
             ],
             [
              0.6666666666666666,
              "#ed7953"
             ],
             [
              0.7777777777777778,
              "#fb9f3a"
             ],
             [
              0.8888888888888888,
              "#fdca26"
             ],
             [
              1,
              "#f0f921"
             ]
            ]
           }
          ],
          "heatmapgl":[
           {
            "type":"heatmapgl",
            "colorbar":{
             "outlinewidth":0,
             "ticks":""
            },
            "colorscale":[
             [
              0,
              "#0d0887"
             ],
             [
              0.1111111111111111,
              "#46039f"
             ],
             [
              0.2222222222222222,
              "#7201a8"
             ],
             [
              0.3333333333333333,
              "#9c179e"
             ],
             [
              0.4444444444444444,
              "#bd3786"
             ],
             [
              0.5555555555555556,
              "#d8576b"
             ],
             [
              0.6666666666666666,
              "#ed7953"
             ],
             [
              0.7777777777777778,
              "#fb9f3a"
             ],
             [
              0.8888888888888888,
              "#fdca26"
             ],
             [
              1,
              "#f0f921"
             ]
            ]
           }
          ],
          "contourcarpet":[
           {
            "type":"contourcarpet",
            "colorbar":{
             "outlinewidth":0,
             "ticks":""
            }
           }
          ],
          "contour":[
           {
            "type":"contour",
            "colorbar":{
             "outlinewidth":0,
             "ticks":""
            },
            "colorscale":[
             [
              0,
              "#0d0887"
             ],
             [
              0.1111111111111111,
              "#46039f"
             ],
             [
              0.2222222222222222,
              "#7201a8"
             ],
             [
              0.3333333333333333,
              "#9c179e"
             ],
             [
              0.4444444444444444,
              "#bd3786"
             ],
             [
              0.5555555555555556,
              "#d8576b"
             ],
             [
              0.6666666666666666,
              "#ed7953"
             ],
             [
              0.7777777777777778,
              "#fb9f3a"
             ],
             [
              0.8888888888888888,
              "#fdca26"
             ],
             [
              1,
              "#f0f921"
             ]
            ]
           }
          ],
          "surface":[
           {
            "type":"surface",
            "colorbar":{
             "outlinewidth":0,
             "ticks":""
            },
            "colorscale":[
             [
              0,
              "#0d0887"
             ],
             [
              0.1111111111111111,
              "#46039f"
             ],
             [
              0.2222222222222222,
              "#7201a8"
             ],
             [
              0.3333333333333333,
              "#9c179e"
             ],
             [
              0.4444444444444444,
              "#bd3786"
             ],
             [
              0.5555555555555556,
              "#d8576b"
             ],
             [
              0.6666666666666666,
              "#ed7953"
             ],
             [
              0.7777777777777778,
              "#fb9f3a"
             ],
             [
              0.8888888888888888,
              "#fdca26"
             ],
             [
              1,
              "#f0f921"
             ]
            ]
           }
          ],
          "mesh3d":[
           {
            "type":"mesh3d",
            "colorbar":{
             "outlinewidth":0,
             "ticks":""
            }
           }
          ],
          "scatter":[
           {
            "fillpattern":{
             "fillmode":"overlay",
             "size":10,
             "solidity":0.2
            },
            "type":"scatter"
           }
          ],
          "parcoords":[
           {
            "type":"parcoords",
            "line":{
             "colorbar":{
              "outlinewidth":0,
              "ticks":""
             }
            }
           }
          ],
          "scatterpolargl":[
           {
            "type":"scatterpolargl",
            "marker":{
             "colorbar":{
              "outlinewidth":0,
              "ticks":""
             }
            }
           }
          ],
          "bar":[
           {
            "error_x":{
             "color":"#2a3f5f"
            },
            "error_y":{
             "color":"#2a3f5f"
            },
            "marker":{
             "line":{
              "color":"#E5ECF6",
              "width":0.5
             },
             "pattern":{
              "fillmode":"overlay",
              "size":10,
              "solidity":0.2
             }
            },
            "type":"bar"
           }
          ],
          "scattergeo":[
           {
            "type":"scattergeo",
            "marker":{
             "colorbar":{
              "outlinewidth":0,
              "ticks":""
             }
            }
           }
          ],
          "scatterpolar":[
           {
            "type":"scatterpolar",
            "marker":{
             "colorbar":{
              "outlinewidth":0,
              "ticks":""
             }
            }
           }
          ],
          "histogram":[
           {
            "marker":{
             "pattern":{
              "fillmode":"overlay",
              "size":10,
              "solidity":0.2
             }
            },
            "type":"histogram"
           }
          ],
          "scattergl":[
           {
            "type":"scattergl",
            "marker":{
             "colorbar":{
              "outlinewidth":0,
              "ticks":""
             }
            }
           }
          ],
          "scatter3d":[
           {
            "type":"scatter3d",
            "line":{
             "colorbar":{
              "outlinewidth":0,
              "ticks":""
             }
            },
            "marker":{
             "colorbar":{
              "outlinewidth":0,
              "ticks":""
             }
            }
           }
          ],
          "scattermapbox":[
           {
            "type":"scattermapbox",
            "marker":{
             "colorbar":{
              "outlinewidth":0,
              "ticks":""
             }
            }
           }
          ],
          "scatterternary":[
           {
            "type":"scatterternary",
            "marker":{
             "colorbar":{
              "outlinewidth":0,
              "ticks":""
             }
            }
           }
          ],
          "scattercarpet":[
           {
            "type":"scattercarpet",
            "marker":{
             "colorbar":{
              "outlinewidth":0,
              "ticks":""
             }
            }
           }
          ],
          "carpet":[
           {
            "aaxis":{
             "endlinecolor":"#2a3f5f",
             "gridcolor":"white",
             "linecolor":"white",
             "minorgridcolor":"white",
             "startlinecolor":"#2a3f5f"
            },
            "baxis":{
             "endlinecolor":"#2a3f5f",
             "gridcolor":"white",
             "linecolor":"white",
             "minorgridcolor":"white",
             "startlinecolor":"#2a3f5f"
            },
            "type":"carpet"
           }
          ],
          "table":[
           {
            "cells":{
             "fill":{
              "color":"#EBF0F8"
             },
             "line":{
              "color":"white"
             }
            },
            "header":{
             "fill":{
              "color":"#C8D4E3"
             },
             "line":{
              "color":"white"
             }
            },
            "type":"table"
           }
          ],
          "barpolar":[
           {
            "marker":{
             "line":{
              "color":"#E5ECF6",
              "width":0.5
             },
             "pattern":{
              "fillmode":"overlay",
              "size":10,
              "solidity":0.2
             }
            },
            "type":"barpolar"
           }
          ],
          "pie":[
           {
            "automargin":true,
            "type":"pie"
           }
          ]
         },
         "layout":{
          "autotypenumbers":"strict",
          "colorway":[
           "#636efa",
           "#EF553B",
           "#00cc96",
           "#ab63fa",
           "#FFA15A",
           "#19d3f3",
           "#FF6692",
           "#B6E880",
           "#FF97FF",
           "#FECB52"
          ],
          "font":{
           "color":"#2a3f5f"
          },
          "hovermode":"closest",
          "hoverlabel":{
           "align":"left"
          },
          "paper_bgcolor":"white",
          "plot_bgcolor":"#E5ECF6",
          "polar":{
           "bgcolor":"#E5ECF6",
           "angularaxis":{
            "gridcolor":"white",
            "linecolor":"white",
            "ticks":""
           },
           "radialaxis":{
            "gridcolor":"white",
            "linecolor":"white",
            "ticks":""
           }
          },
          "ternary":{
           "bgcolor":"#E5ECF6",
           "aaxis":{
            "gridcolor":"white",
            "linecolor":"white",
            "ticks":""
           },
           "baxis":{
            "gridcolor":"white",
            "linecolor":"white",
            "ticks":""
           },
           "caxis":{
            "gridcolor":"white",
            "linecolor":"white",
            "ticks":""
           }
          },
          "coloraxis":{
           "colorbar":{
            "outlinewidth":0,
            "ticks":""
           }
          },
          "colorscale":{
           "sequential":[
            [
             0,
             "#0d0887"
            ],
            [
             0.1111111111111111,
             "#46039f"
            ],
            [
             0.2222222222222222,
             "#7201a8"
            ],
            [
             0.3333333333333333,
             "#9c179e"
            ],
            [
             0.4444444444444444,
             "#bd3786"
            ],
            [
             0.5555555555555556,
             "#d8576b"
            ],
            [
             0.6666666666666666,
             "#ed7953"
            ],
            [
             0.7777777777777778,
             "#fb9f3a"
            ],
            [
             0.8888888888888888,
             "#fdca26"
            ],
            [
             1,
             "#f0f921"
            ]
           ],
           "sequentialminus":[
            [
             0,
             "#0d0887"
            ],
            [
             0.1111111111111111,
             "#46039f"
            ],
            [
             0.2222222222222222,
             "#7201a8"
            ],
            [
             0.3333333333333333,
             "#9c179e"
            ],
            [
             0.4444444444444444,
             "#bd3786"
            ],
            [
             0.5555555555555556,
             "#d8576b"
            ],
            [
             0.6666666666666666,
             "#ed7953"
            ],
            [
             0.7777777777777778,
             "#fb9f3a"
            ],
            [
             0.8888888888888888,
             "#fdca26"
            ],
            [
             1,
             "#f0f921"
            ]
           ],
           "diverging":[
            [
             0,
             "#8e0152"
            ],
            [
             0.1,
             "#c51b7d"
            ],
            [
             0.2,
             "#de77ae"
            ],
            [
             0.3,
             "#f1b6da"
            ],
            [
             0.4,
             "#fde0ef"
            ],
            [
             0.5,
             "#f7f7f7"
            ],
            [
             0.6,
             "#e6f5d0"
            ],
            [
             0.7,
             "#b8e186"
            ],
            [
             0.8,
             "#7fbc41"
            ],
            [
             0.9,
             "#4d9221"
            ],
            [
             1,
             "#276419"
            ]
           ]
          },
          "xaxis":{
           "gridcolor":"white",
           "linecolor":"white",
           "ticks":"",
           "title":{
            "standoff":15
           },
           "zerolinecolor":"white",
           "automargin":true,
           "zerolinewidth":2
          },
          "yaxis":{
           "gridcolor":"white",
           "linecolor":"white",
           "ticks":"",
           "title":{
            "standoff":15
           },
           "zerolinecolor":"white",
           "automargin":true,
           "zerolinewidth":2
          },
          "scene":{
           "xaxis":{
            "backgroundcolor":"#E5ECF6",
            "gridcolor":"white",
            "linecolor":"white",
            "showbackground":true,
            "ticks":"",
            "zerolinecolor":"white",
            "gridwidth":2
           },
           "yaxis":{
            "backgroundcolor":"#E5ECF6",
            "gridcolor":"white",
            "linecolor":"white",
            "showbackground":true,
            "ticks":"",
            "zerolinecolor":"white",
            "gridwidth":2
           },
           "zaxis":{
            "backgroundcolor":"#E5ECF6",
            "gridcolor":"white",
            "linecolor":"white",
            "showbackground":true,
            "ticks":"",
            "zerolinecolor":"white",
            "gridwidth":2
           }
          },
          "shapedefaults":{
           "line":{
            "color":"#2a3f5f"
           }
          },
          "annotationdefaults":{
           "arrowcolor":"#2a3f5f",
           "arrowhead":0,
           "arrowwidth":1
          },
          "geo":{
           "bgcolor":"white",
           "landcolor":"#E5ECF6",
           "subunitcolor":"white",
           "showland":true,
           "showlakes":true,
           "lakecolor":"white"
          },
          "title":{
           "x":0.05
          },
          "mapbox":{
           "style":"light"
          }
         }
        },
        "title":{
         "text":"Cohort Analysis"
        }
       },
       "config":{
        "plotlyServerURL":"https:\/\/plot.ly"
       }
      }
     },
     "metadata":{
      
     },
     "output_type":"display_data"
    }
   ],
   "metadata":{
    "datalore":{
     "node_id":"O6i0R8Nkw8ulAwSMB177zb",
     "type":"CODE",
     "hide_input_from_viewers":true,
     "hide_output_from_viewers":true
    }
   }
  }
 ],
 "metadata":{
  "kernelspec":{
   "display_name":"Python",
   "language":"python",
   "name":"python"
  },
  "datalore":{
   "computation_mode":"JUPYTER",
   "package_manager":"pip",
   "base_environment":"default",
   "packages":[
    
   ],
   "report_row_ids":[
    
   ],
   "version":3
  }
 },
 "nbformat":4,
 "nbformat_minor":4
}